{
 "cells": [
  {
   "cell_type": "markdown",
   "metadata": {},
   "source": [
    "##  換<br>行\n",
    "## <u>底線</u><br>\n",
    "## <b>粗體</b>\n",
    "## <big>大字體</big>\n",
    "## <em>強調</em>\n",
    "## <I>斜體</I>\n",
    "## $$ sin\\theta + cos\\theta = 1 $$\n"
   ]
  }
 ],
 "metadata": {
  "language_info": {
   "name": "python"
  },
  "orig_nbformat": 4
 },
 "nbformat": 4,
 "nbformat_minor": 2
}
